{
 "cells": [
  {
   "cell_type": "code",
   "execution_count": 1,
   "metadata": {},
   "outputs": [
    {
     "name": "stdout",
     "output_type": "stream",
     "text": [
      "Populating the interactive namespace from numpy and matplotlib\n"
     ]
    }
   ],
   "source": [
    "%pylab inline\n",
    "import pandas as pd\n",
    "\n",
    "rcParams['axes.spines.right'] = False\n",
    "rcParams['axes.spines.top'] = False"
   ]
  },
  {
   "cell_type": "code",
   "execution_count": 2,
   "metadata": {
    "collapsed": true
   },
   "outputs": [],
   "source": [
    "counts = pd.read_csv('~/Google Drive/Research Projects/Finished/Power-analysis/Public data/GSE60768/GSE60768_umi_counts.csv', index_col=0)\n",
    "\n",
    "counts = counts.astype(int)\n",
    "\n",
    "sample_info = pd.DataFrame({'condition': counts.columns.str.split('_').str.get(1)}, index=counts.columns)\n",
    "\n",
    "sample_info['total_counts'] = counts.sum()\n",
    "sample_info['num_genes'] = (counts > 0).sum()\n",
    "sample_info['ERCC'] = counts[counts.index.str.startswith('ERCC-')].sum()"
   ]
  },
  {
   "cell_type": "code",
   "execution_count": 3,
   "metadata": {},
   "outputs": [
    {
     "data": {
      "text/plain": [
       "ESC    48\n",
       "NSC    48\n",
       "2i     48\n",
       "Name: condition, dtype: int64"
      ]
     },
     "execution_count": 3,
     "metadata": {},
     "output_type": "execute_result"
    }
   ],
   "source": [
    "sample_info.condition.value_counts()"
   ]
  },
  {
   "cell_type": "markdown",
   "metadata": {},
   "source": [
    "If you have two types of cells, you might want to find what molecular features distinguish them from each other. A popular assay for this is RNA-sequencing. If you measure the RNA from different genes in the two cell types, you can identify which RNAs are more abundant in one cell type or the other. This is known as _differential expression_ (DE) analysis, and we usually say that genes are _upregulated_ or _downregulated_ depending if they are more or less abundant. (I'd argue \"enriched\" or \"depleted\" would be better terms, because \"regulated\" suggests some causality you're not measuring.)\n",
    "\n",
    "Abstracting away many details about normalisation and data noise, say $ x^g $ is the gene expression, and $ y $ be and indicator of cell type such that $ y = 1 $ for one, and $ y = -1 $ for the other. In differential expression analysis, for every gene $ g $ we investigate the relation\n",
    "$$\n",
    "x^g = \\beta_0^g + \\beta_1^g \\cdot y + \\varepsilon\n",
    "$$\n",
    "\n",
    "with regards to the data, and ask the question of whether $ \\beta_1^g $ is different from zero in a meaningful way.\n",
    "\n",
    "To make the example more concrete, let's consider the data from Velten et al, where the authors studied mES cells ($ N = 96 $) and NS cells ($ N = 48 $). Say that $ y = 1 $ for mESC, and $ y = -1 $ for NSC. For example, if $ \\beta_1^g $ is postive the gene is more abundant in mESCs, and the magnitude of $ \\beta_1^g $ is the _effect size_.\n",
    "\n",
    "For this simple example, let's investigate 200 genes from the data (selected by having high variance) with expression on a log scale. For the sake of simplicity, let's assume normal distributed noise $ \\varepsilon \\sim \\mathcal{N}(0, \\sigma^2_g) $.\n",
    "\n",
    "The model described above can be implemented in Stan in the following way\n",
    "\n",
    "    data {\n",
    "      int<lower=0> N;\n",
    "      int<lower=0> G;\n",
    "      matrix[N, G] X;\n",
    "      vector[N] y;\n",
    "    }\n",
    "    parameters {\n",
    "      vector[G] beta0;\n",
    "      vector[G] beta;\n",
    "      real<lower=0> sigma[G];\n",
    "    }\n",
    "    model {\n",
    "\n",
    "      beta ~ normal(0, 1.);\n",
    "      beta0 ~ normal(0, 1.);\n",
    "\n",
    "      for (i in 1:G) {\n",
    "        col(X, i) ~ normal(beta0[i] + y * beta[i], sigma[i]);\n",
    "      }\n",
    "\n",
    "    }\n",
    "\n",
    "(To keep it simple, we collect all the genes in a matrix and analyse them all at once).\n",
    "\n",
    "Running the model, we obtain samples from the posterior distribution of the Effect size of each gene ($ \\beta_1^g $). We plot the mean of this, with 95% confidence intervals (CI)."
   ]
  },
  {
   "cell_type": "code",
   "execution_count": 4,
   "metadata": {
    "collapsed": true
   },
   "outputs": [],
   "source": [
    "import pickle\n",
    "\n",
    "with open('DE.pkl', 'rb') as fh:\n",
    "    model = pickle.load(fh)"
   ]
  },
  {
   "cell_type": "code",
   "execution_count": 5,
   "metadata": {
    "collapsed": true
   },
   "outputs": [],
   "source": [
    "p = 200\n",
    "idx = counts.pipe(np.log1p).var(1).sort_values(ascending=False).head(p).index\n",
    "tmp = np.log1p(counts.T[idx])\n",
    "y = (sample_info['condition'] != 'NSC')\n",
    "n = tmp.shape[0]"
   ]
  },
  {
   "cell_type": "code",
   "execution_count": 6,
   "metadata": {
    "collapsed": true
   },
   "outputs": [],
   "source": [
    "data = {\n",
    "    'N': n,\n",
    "    'G': p,\n",
    "    'X': tmp.values,\n",
    "    'y': 2 * (y.astype(int).values - 0.5)\n",
    "}"
   ]
  },
  {
   "cell_type": "code",
   "execution_count": 7,
   "metadata": {
    "collapsed": true
   },
   "outputs": [],
   "source": [
    "s = model.sampling(data=data, iter=1000)"
   ]
  },
  {
   "cell_type": "code",
   "execution_count": 8,
   "metadata": {
    "collapsed": true
   },
   "outputs": [],
   "source": [
    "beta = s.extract('beta')['beta']"
   ]
  },
  {
   "cell_type": "code",
   "execution_count": 9,
   "metadata": {},
   "outputs": [
    {
     "data": {
      "image/png": "[encoded data removed]",
      "text/plain": [
       "<matplotlib.figure.Figure at 0x117ec3518>"
      ]
     },
     "metadata": {},
     "output_type": "display_data"
    }
   ],
   "source": [
    "figsize(12, 3)\n",
    "plt.errorbar(np.arange(beta.shape[1]), beta.mean(0), yerr=2*beta.std(0), fmt='o', color='k', markerfacecolor='w');\n",
    "plt.axhline(0, lw=1, ls='--', color='lightgrey', zorder=-1)\n",
    "plt.xlabel('Gene num')\n",
    "plt.ylabel('Effect size');\n",
    "plt.title('DE Results');"
   ]
  },
  {
   "cell_type": "markdown",
   "metadata": {},
   "source": [
    "Several of the 200 genes have effect sizes such that the CI is far away from 0. A handy way to quantify the uncertainty of the effect sizes is to invsetigate the probability of the effect size being 0, let's call this a _P-value_. A simple way to do that in this setting is\n",
    "$$\n",
    " P = \\min( p(\\beta_1^g < 0 | y, x^g), p(-\\beta_1^g < 0 | y, x^g) ).\n",
    "$$\n",
    "\n",
    "In other words, we just count how many of the posterior samples are on the wrong side of 0 for the effect size. Comparing the effect size with the P-value is known as a _volcano plot_."
   ]
  },
  {
   "cell_type": "code",
   "execution_count": 10,
   "metadata": {
    "collapsed": true
   },
   "outputs": [],
   "source": [
    "pval = np.sum((beta < 0), 0) / beta.shape[0]\n",
    "pval = np.minimum(pval, 1 - pval)"
   ]
  },
  {
   "cell_type": "code",
   "execution_count": 11,
   "metadata": {},
   "outputs": [
    {
     "data": {
      "image/png": "[encoded data removed]",
      "text/plain": [
       "<matplotlib.figure.Figure at 0x10e3181d0>"
      ]
     },
     "metadata": {},
     "output_type": "display_data"
    }
   ],
   "source": [
    "figsize(5, 3)\n",
    "plt.yscale('log')\n",
    "plt.scatter(beta.mean(0), np.maximum(pval, 1./beta.shape[0]), c='w', edgecolor='k', label='Genes');\n",
    "plt.axhline(0.05, lw=1, ls='--', c='k');\n",
    "plt.gca().invert_yaxis();\n",
    "plt.ylabel('P-value')\n",
    "plt.xlabel('Effect size');\n",
    "plt.legend(scatterpoints=3);\n",
    "plt.title('DE P-values');"
   ]
  },
  {
   "cell_type": "markdown",
   "metadata": {},
   "source": [
    "In this case we drew 2,000 samples, which puts a limit to the smallest P-value we can observe as 1 / 2,000, causing the plateau in the figure."
   ]
  },
  {
   "cell_type": "code",
   "execution_count": 12,
   "metadata": {},
   "outputs": [
    {
     "data": {
      "text/html": [
       "<div>\n",
       "<style>\n",
       "    .dataframe thead tr:only-child th {\n",
       "        text-align: right;\n",
       "    }\n",
       "\n",
       "    .dataframe thead th {\n",
       "        text-align: left;\n",
       "    }\n",
       "\n",
       "    .dataframe tbody tr th {\n",
       "        vertical-align: top;\n",
       "    }\n",
       "</style>\n",
       "<table border=\"1\" class=\"dataframe\">\n",
       "  <thead>\n",
       "    <tr style=\"text-align: right;\">\n",
       "      <th></th>\n",
       "      <th>beta</th>\n",
       "      <th>pval</th>\n",
       "    </tr>\n",
       "  </thead>\n",
       "  <tbody>\n",
       "    <tr>\n",
       "      <th>ENSMUSG00000060461</th>\n",
       "      <td>1.296872</td>\n",
       "      <td>0.0</td>\n",
       "    </tr>\n",
       "    <tr>\n",
       "      <th>ENSMUSG00000091955</th>\n",
       "      <td>0.463096</td>\n",
       "      <td>0.0</td>\n",
       "    </tr>\n",
       "    <tr>\n",
       "      <th>ENSMUSG00000028936</th>\n",
       "      <td>0.383841</td>\n",
       "      <td>0.0</td>\n",
       "    </tr>\n",
       "    <tr>\n",
       "      <th>ENSMUSG00000063856</th>\n",
       "      <td>0.427333</td>\n",
       "      <td>0.0</td>\n",
       "    </tr>\n",
       "    <tr>\n",
       "      <th>ENSMUSG00000067288</th>\n",
       "      <td>0.365123</td>\n",
       "      <td>0.0</td>\n",
       "    </tr>\n",
       "    <tr>\n",
       "      <th>ENSMUSG00000033307</th>\n",
       "      <td>0.390917</td>\n",
       "      <td>0.0</td>\n",
       "    </tr>\n",
       "    <tr>\n",
       "      <th>ENSMUSG00000028691</th>\n",
       "      <td>0.462913</td>\n",
       "      <td>0.0</td>\n",
       "    </tr>\n",
       "    <tr>\n",
       "      <th>ENSMUSG00000063524</th>\n",
       "      <td>0.521403</td>\n",
       "      <td>0.0</td>\n",
       "    </tr>\n",
       "    <tr>\n",
       "      <th>ENSMUSG00000079435</th>\n",
       "      <td>0.369893</td>\n",
       "      <td>0.0</td>\n",
       "    </tr>\n",
       "    <tr>\n",
       "      <th>ENSMUSG00000049422</th>\n",
       "      <td>0.864710</td>\n",
       "      <td>0.0</td>\n",
       "    </tr>\n",
       "  </tbody>\n",
       "</table>\n",
       "</div>"
      ],
      "text/plain": [
       "                        beta  pval\n",
       "ENSMUSG00000060461  1.296872   0.0\n",
       "ENSMUSG00000091955  0.463096   0.0\n",
       "ENSMUSG00000028936  0.383841   0.0\n",
       "ENSMUSG00000063856  0.427333   0.0\n",
       "ENSMUSG00000067288  0.365123   0.0\n",
       "ENSMUSG00000033307  0.390917   0.0\n",
       "ENSMUSG00000028691  0.462913   0.0\n",
       "ENSMUSG00000063524  0.521403   0.0\n",
       "ENSMUSG00000079435  0.369893   0.0\n",
       "ENSMUSG00000049422  0.864710   0.0"
      ]
     },
     "execution_count": 12,
     "metadata": {},
     "output_type": "execute_result"
    }
   ],
   "source": [
    "pd.DataFrame({'pval': pval, 'beta': beta.mean(0)}, index=idx).sort_values('pval').head(10)"
   ]
  },
  {
   "cell_type": "code",
   "execution_count": null,
   "metadata": {
    "collapsed": true
   },
   "outputs": [],
   "source": []
  },
  {
   "cell_type": "markdown",
   "metadata": {
    "collapsed": true
   },
   "source": [
    "The reason I'm writing about this, is that I had a conversation with [Tomás](https://twitter.com/tomsgoms) about this in relation to our notion of cell types.\n",
    "\n",
    "**It's kind of backwards!**\n",
    "\n",
    "We had the cell types, and then investigated which genes were expressed in the cells. In essence, from a machine learning perspective, we are assessing if the cell type label can predict the gene expression. But what we _want_ to do is investigate how gene expression predicts cell type!\n",
    "\n",
    "So can we do it the other way around? Keeping the notation like above, we want to investigate\n",
    "$$\n",
    "y = \\beta_0 + \\sum_{g=1}^G \\beta^g \\cdot x^g + \\varepsilon.\n",
    "$$\n",
    "\n",
    "Now, if $ \\beta^g $ is positive, the gene will be a predictor for mESC identity, and the magnitude of this will inform about how important it is for determining the cell type. (I think we can still call this _effect size_ in a meaningful way.)\n",
    "\n",
    "Let's refer to this as _reverse differential expression_, and implement it in Stan in this way:\n",
    "\n",
    "    data {\n",
    "      int<lower=0> N;\n",
    "      int<lower=0> G;\n",
    "      matrix[N, G] X;\n",
    "      real y[N];\n",
    "    }\n",
    "    parameters {\n",
    "      real beta0;\n",
    "      vector[G] beta;\n",
    "      real<lower=0> sigma;\n",
    "    }\n",
    "    model {\n",
    "\n",
    "      beta ~ normal(0, 1.);\n",
    "      beta0 ~ normal(0, 1.);\n",
    "\n",
    "      y ~ normal(beta0 + X * beta, sigma);\n",
    "    }\n",
    "\n",
    "After sampling, we can plot the effect sizes of the genes like above."
   ]
  },
  {
   "cell_type": "code",
   "execution_count": 13,
   "metadata": {
    "collapsed": true
   },
   "outputs": [],
   "source": [
    "import pickle\n",
    "\n",
    "with open('LR.pkl', 'rb') as fh:\n",
    "    model = pickle.load(fh)"
   ]
  },
  {
   "cell_type": "code",
   "execution_count": 14,
   "metadata": {
    "collapsed": true
   },
   "outputs": [],
   "source": [
    "p = 200\n",
    "idx = counts.pipe(np.log1p).var(1).sort_values(ascending=False).head(p).index\n",
    "tmp = np.log1p(counts.T[idx])\n",
    "y = (sample_info['condition'] != 'NSC')\n",
    "n = tmp.shape[0]"
   ]
  },
  {
   "cell_type": "code",
   "execution_count": 15,
   "metadata": {
    "collapsed": true
   },
   "outputs": [],
   "source": [
    "data = {\n",
    "    'N': n,\n",
    "    'G': p,\n",
    "    'X': tmp.values,\n",
    "    'y': 2 * (y.astype(int).values - 0.5)\n",
    "}"
   ]
  },
  {
   "cell_type": "code",
   "execution_count": 16,
   "metadata": {
    "collapsed": true,
    "scrolled": false
   },
   "outputs": [],
   "source": [
    "s = model.sampling(data=data, iter=1000)"
   ]
  },
  {
   "cell_type": "code",
   "execution_count": 17,
   "metadata": {
    "collapsed": true
   },
   "outputs": [],
   "source": [
    "beta = s.extract('beta')['beta']"
   ]
  },
  {
   "cell_type": "code",
   "execution_count": 18,
   "metadata": {
    "scrolled": false
   },
   "outputs": [
    {
     "data": {
      "text/plain": [
       "<matplotlib.text.Text at 0x10e2a3cf8>"
      ]
     },
     "execution_count": 18,
     "metadata": {},
     "output_type": "execute_result"
    },
    {
     "data": {
      "image/png": "[encoded data removed]",
      "text/plain": [
       "<matplotlib.figure.Figure at 0x1187a18d0>"
      ]
     },
     "metadata": {},
     "output_type": "display_data"
    }
   ],
   "source": [
    "figsize(12, 3)\n",
    "plt.errorbar(np.arange(beta.shape[1]), beta.mean(0), yerr=2*beta.std(0), fmt='o', color='k', markerfacecolor='w');\n",
    "plt.axhline(0, lw=1, ls='--', color='lightgrey', zorder=-1)\n",
    "plt.xlabel('Gene num')\n",
    "plt.ylabel('Effect size');\n",
    "plt.title('Reverse DE Results')"
   ]
  },
  {
   "cell_type": "markdown",
   "metadata": {},
   "source": [
    "The results are not exactly stellar. All effect sizes are quite small, and very uncertain! The P-values illustrate this as well."
   ]
  },
  {
   "cell_type": "code",
   "execution_count": 19,
   "metadata": {
    "collapsed": true,
    "scrolled": false
   },
   "outputs": [],
   "source": [
    "pval = np.sum((beta < 0), 0) / beta.shape[0]\n",
    "pval = np.minimum(pval, 1 - pval)"
   ]
  },
  {
   "cell_type": "code",
   "execution_count": 20,
   "metadata": {},
   "outputs": [
    {
     "data": {
      "text/plain": [
       "<matplotlib.text.Text at 0x10dea0a20>"
      ]
     },
     "execution_count": 20,
     "metadata": {},
     "output_type": "execute_result"
    },
    {
     "data": {
      "image/png": "[encoded data removed]",
      "text/plain": [
       "<matplotlib.figure.Figure at 0x10e318400>"
      ]
     },
     "metadata": {},
     "output_type": "display_data"
    }
   ],
   "source": [
    "figsize(5, 3)\n",
    "plt.yscale('log')\n",
    "plt.scatter(beta.mean(0), np.maximum(pval, 1e-13), c='w', edgecolor='k', label='Genes');\n",
    "plt.axhline(0.05, lw=1, ls='--', c='k');\n",
    "plt.gca().invert_yaxis();\n",
    "plt.ylabel('P-value')\n",
    "plt.xlabel('Effect size');\n",
    "plt.legend(scatterpoints=3);\n",
    "plt.title('Reverse DE P-values')"
   ]
  },
  {
   "cell_type": "code",
   "execution_count": 21,
   "metadata": {},
   "outputs": [
    {
     "data": {
      "text/html": [
       "<div>\n",
       "<style>\n",
       "    .dataframe thead tr:only-child th {\n",
       "        text-align: right;\n",
       "    }\n",
       "\n",
       "    .dataframe thead th {\n",
       "        text-align: left;\n",
       "    }\n",
       "\n",
       "    .dataframe tbody tr th {\n",
       "        vertical-align: top;\n",
       "    }\n",
       "</style>\n",
       "<table border=\"1\" class=\"dataframe\">\n",
       "  <thead>\n",
       "    <tr style=\"text-align: right;\">\n",
       "      <th></th>\n",
       "      <th>beta</th>\n",
       "      <th>pval</th>\n",
       "    </tr>\n",
       "  </thead>\n",
       "  <tbody>\n",
       "    <tr>\n",
       "      <th>ENSMUSG00000022708</th>\n",
       "      <td>-0.420413</td>\n",
       "      <td>0.1355</td>\n",
       "    </tr>\n",
       "    <tr>\n",
       "      <th>ENSMUSG00000038900</th>\n",
       "      <td>0.501867</td>\n",
       "      <td>0.1515</td>\n",
       "    </tr>\n",
       "    <tr>\n",
       "      <th>ENSMUSG00000083084</th>\n",
       "      <td>-0.391816</td>\n",
       "      <td>0.1565</td>\n",
       "    </tr>\n",
       "    <tr>\n",
       "      <th>ENSMUSG00000046330</th>\n",
       "      <td>-0.386397</td>\n",
       "      <td>0.1600</td>\n",
       "    </tr>\n",
       "    <tr>\n",
       "      <th>ENSMUSG00000003429</th>\n",
       "      <td>-0.329270</td>\n",
       "      <td>0.1725</td>\n",
       "    </tr>\n",
       "    <tr>\n",
       "      <th>ENSMUSG00000037805</th>\n",
       "      <td>0.425457</td>\n",
       "      <td>0.1815</td>\n",
       "    </tr>\n",
       "    <tr>\n",
       "      <th>ENSMUSG00000060126</th>\n",
       "      <td>-0.498119</td>\n",
       "      <td>0.1845</td>\n",
       "    </tr>\n",
       "    <tr>\n",
       "      <th>ENSMUSG00000046364</th>\n",
       "      <td>-0.512343</td>\n",
       "      <td>0.1905</td>\n",
       "    </tr>\n",
       "    <tr>\n",
       "      <th>ENSMUSG00000021754</th>\n",
       "      <td>0.387441</td>\n",
       "      <td>0.1940</td>\n",
       "    </tr>\n",
       "    <tr>\n",
       "      <th>ENSMUSG00000064341</th>\n",
       "      <td>-0.252449</td>\n",
       "      <td>0.2055</td>\n",
       "    </tr>\n",
       "  </tbody>\n",
       "</table>\n",
       "</div>"
      ],
      "text/plain": [
       "                        beta    pval\n",
       "ENSMUSG00000022708 -0.420413  0.1355\n",
       "ENSMUSG00000038900  0.501867  0.1515\n",
       "ENSMUSG00000083084 -0.391816  0.1565\n",
       "ENSMUSG00000046330 -0.386397  0.1600\n",
       "ENSMUSG00000003429 -0.329270  0.1725\n",
       "ENSMUSG00000037805  0.425457  0.1815\n",
       "ENSMUSG00000060126 -0.498119  0.1845\n",
       "ENSMUSG00000046364 -0.512343  0.1905\n",
       "ENSMUSG00000021754  0.387441  0.1940\n",
       "ENSMUSG00000064341 -0.252449  0.2055"
      ]
     },
     "execution_count": 21,
     "metadata": {},
     "output_type": "execute_result"
    }
   ],
   "source": [
    "pd.DataFrame({'pval': pval, 'beta': beta.mean(0)}, index=idx).sort_values('pval').head(10)"
   ]
  },
  {
   "cell_type": "markdown",
   "metadata": {},
   "source": [
    "Well, negative results are also results.\n",
    "\n",
    "Can we improve this somehow? We can think a little about the expected biology. While biology is complex and intricite, and everything interacts with everything, the results of this way of thinking might not be very actionable. What we expect (or rather hope) is that a small number of key genes determine cell type.\n",
    "\n",
    "In the statistical sense, it means our prior expectation on the effect sizes is that most of the time they are 0. Allen Riddell wrote an excellent post about this concept and the \"Horseshoe prior\" [here](https://www.ariddell.org/horseshoe-prior-with-stan.html). Based on the code in the post, we can make a _sparse_ version of the reverse DE in the following way\n",
    "\n",
    "    data {\n",
    "      int<lower=0> N;\n",
    "      int<lower=0> G;\n",
    "      matrix[N, G] X;\n",
    "      real y[N];\n",
    "    }\n",
    "    parameters {\n",
    "      real beta0;\n",
    "      vector[G] beta;\n",
    "      vector<lower=0>[G] lambda;\n",
    "      real<lower=0> tau;\n",
    "      real<lower=0> sigma;\n",
    "    }\n",
    "    model {\n",
    "      lambda ~ cauchy(0, 1);\n",
    "      tau ~ cauchy(0, 1);\n",
    "      for (i in 1:G) {\n",
    "        beta[i] ~ normal(0, lambda[i] * tau);\n",
    "      }\n",
    "\n",
    "      beta0 ~ normal(0, 1.);\n",
    "\n",
    "      y ~ normal(beta0 + X * beta, sigma);\n",
    "    }\n",
    "\n",
    "Again, we perform the sampling and plot the effect sizes."
   ]
  },
  {
   "cell_type": "code",
   "execution_count": 22,
   "metadata": {
    "collapsed": true
   },
   "outputs": [],
   "source": [
    "with open('SparseLR.pkl', 'rb') as fh:\n",
    "    model = pickle.load(fh)"
   ]
  },
  {
   "cell_type": "code",
   "execution_count": 23,
   "metadata": {
    "collapsed": true
   },
   "outputs": [],
   "source": [
    "s = model.sampling(data=data, iter=1000)"
   ]
  },
  {
   "cell_type": "code",
   "execution_count": 24,
   "metadata": {
    "collapsed": true
   },
   "outputs": [],
   "source": [
    "beta = s.extract('beta')['beta']"
   ]
  },
  {
   "cell_type": "code",
   "execution_count": 25,
   "metadata": {},
   "outputs": [
    {
     "data": {
      "image/png": "[encoded data removed]",
      "text/plain": [
       "<matplotlib.figure.Figure at 0x11878dd68>"
      ]
     },
     "metadata": {},
     "output_type": "display_data"
    }
   ],
   "source": [
    "figsize(12, 3)\n",
    "plt.errorbar(np.arange(beta.shape[1]), beta.mean(0), yerr=2*beta.std(0), fmt='o', color='k', markerfacecolor='w');\n",
    "plt.axhline(0, lw=1, ls='--', color='lightgrey', zorder=-1)\n",
    "plt.xlabel('Gene num')\n",
    "plt.ylabel('Effect size');\n",
    "plt.title('Sparse Reverse DE Results');"
   ]
  },
  {
   "cell_type": "markdown",
   "metadata": {},
   "source": [
    "Now the uncertainty is not very large for most of the genes! A small number of the genes have larger effect sizes, though with pretty large CI's. We can look at the volcano plot to get a clearer summary."
   ]
  },
  {
   "cell_type": "code",
   "execution_count": 26,
   "metadata": {
    "collapsed": true
   },
   "outputs": [],
   "source": [
    "pval = np.sum((beta < 0), 0) / beta.shape[0]\n",
    "pval = np.minimum(pval, 1 - pval)"
   ]
  },
  {
   "cell_type": "code",
   "execution_count": 27,
   "metadata": {},
   "outputs": [
    {
     "data": {
      "image/png": "[encoded data removed]",
      "text/plain": [
       "<matplotlib.figure.Figure at 0x10e163a20>"
      ]
     },
     "metadata": {},
     "output_type": "display_data"
    }
   ],
   "source": [
    "figsize(5, 3)\n",
    "plt.yscale('log')\n",
    "plt.scatter(beta.mean(0), np.maximum(pval, 1e-13), c='w', edgecolor='k', label='Genes');\n",
    "plt.axhline(0.05, lw=1, ls='--', c='k');\n",
    "plt.gca().invert_yaxis();\n",
    "plt.ylabel('P-value')\n",
    "plt.xlabel('Effect size');\n",
    "plt.legend(scatterpoints=3);\n",
    "plt.title('Sparse Reverse DE P-values');"
   ]
  },
  {
   "cell_type": "markdown",
   "metadata": {},
   "source": [
    "Three of the genes have particularly small P-values, in order: mt-Nd2, Dppa5a, Ckb.\n",
    "\n",
    "I'm not really expecting very relevant results from this analysis, because the noise models are very crude, and I haven't corrected for any technical factors. But Dppa5a is a well known mESC pluripotency marker, and Ckb is known to be highly abundant in brain (NSC's are neural stem cells). While not very scientific, it's fun that it \"makes sense\".\n",
    "\n",
    "I just wanted to explore Bayesian thinking in differential expression, and give some small Stan examples on how to investigate small conceptual ideas of this.\n",
    "\n",
    "This post is available as a notebook [here](https://github.com/vals/ReverseDE/blob/master/Reverse%20DE.ipynb), with all analysis and code."
   ]
  },
  {
   "cell_type": "code",
   "execution_count": 28,
   "metadata": {},
   "outputs": [
    {
     "data": {
      "text/html": [
       "<div>\n",
       "<style>\n",
       "    .dataframe thead tr:only-child th {\n",
       "        text-align: right;\n",
       "    }\n",
       "\n",
       "    .dataframe thead th {\n",
       "        text-align: left;\n",
       "    }\n",
       "\n",
       "    .dataframe tbody tr th {\n",
       "        vertical-align: top;\n",
       "    }\n",
       "</style>\n",
       "<table border=\"1\" class=\"dataframe\">\n",
       "  <thead>\n",
       "    <tr style=\"text-align: right;\">\n",
       "      <th></th>\n",
       "      <th>beta</th>\n",
       "      <th>pval</th>\n",
       "    </tr>\n",
       "  </thead>\n",
       "  <tbody>\n",
       "    <tr>\n",
       "      <th>ENSMUSG00000064345</th>\n",
       "      <td>-0.288968</td>\n",
       "      <td>0.0080</td>\n",
       "    </tr>\n",
       "    <tr>\n",
       "      <th>ENSMUSG00000060461</th>\n",
       "      <td>0.245447</td>\n",
       "      <td>0.0195</td>\n",
       "    </tr>\n",
       "    <tr>\n",
       "      <th>ENSMUSG00000001270</th>\n",
       "      <td>-0.147287</td>\n",
       "      <td>0.0335</td>\n",
       "    </tr>\n",
       "    <tr>\n",
       "      <th>ENSMUSG00000057666</th>\n",
       "      <td>0.115933</td>\n",
       "      <td>0.1545</td>\n",
       "    </tr>\n",
       "    <tr>\n",
       "      <th>ENSMUSG00000064358</th>\n",
       "      <td>0.077362</td>\n",
       "      <td>0.2100</td>\n",
       "    </tr>\n",
       "    <tr>\n",
       "      <th>ENSMUSG00000008682</th>\n",
       "      <td>-0.084028</td>\n",
       "      <td>0.2115</td>\n",
       "    </tr>\n",
       "    <tr>\n",
       "      <th>ENSMUSG00000052551</th>\n",
       "      <td>0.078640</td>\n",
       "      <td>0.2435</td>\n",
       "    </tr>\n",
       "    <tr>\n",
       "      <th>ENSMUSG00000060126</th>\n",
       "      <td>-0.061452</td>\n",
       "      <td>0.2490</td>\n",
       "    </tr>\n",
       "    <tr>\n",
       "      <th>ENSMUSG00000049421</th>\n",
       "      <td>-0.025748</td>\n",
       "      <td>0.2990</td>\n",
       "    </tr>\n",
       "    <tr>\n",
       "      <th>ENSMUSG00000029580</th>\n",
       "      <td>-0.033113</td>\n",
       "      <td>0.3105</td>\n",
       "    </tr>\n",
       "  </tbody>\n",
       "</table>\n",
       "</div>"
      ],
      "text/plain": [
       "                        beta    pval\n",
       "ENSMUSG00000064345 -0.288968  0.0080\n",
       "ENSMUSG00000060461  0.245447  0.0195\n",
       "ENSMUSG00000001270 -0.147287  0.0335\n",
       "ENSMUSG00000057666  0.115933  0.1545\n",
       "ENSMUSG00000064358  0.077362  0.2100\n",
       "ENSMUSG00000008682 -0.084028  0.2115\n",
       "ENSMUSG00000052551  0.078640  0.2435\n",
       "ENSMUSG00000060126 -0.061452  0.2490\n",
       "ENSMUSG00000049421 -0.025748  0.2990\n",
       "ENSMUSG00000029580 -0.033113  0.3105"
      ]
     },
     "execution_count": 28,
     "metadata": {},
     "output_type": "execute_result"
    }
   ],
   "source": [
    "pd.DataFrame({'pval': pval, 'beta': beta.mean(0)}, index=idx).sort_values('pval').head(10)"
   ]
  },
  {
   "cell_type": "code",
   "execution_count": 29,
   "metadata": {},
   "outputs": [
    {
     "name": "stdout",
     "output_type": "stream",
     "text": [
      "ENSMUSG00000064345\n",
      "ENSMUSG00000060461\n",
      "ENSMUSG00000001270\n",
      "ENSMUSG00000057666\n",
      "ENSMUSG00000064358\n",
      "ENSMUSG00000008682\n",
      "ENSMUSG00000052551\n",
      "ENSMUSG00000060126\n",
      "ENSMUSG00000049421\n",
      "ENSMUSG00000029580\n"
     ]
    }
   ],
   "source": [
    "for g in _.index:\n",
    "    print(g)"
   ]
  },
  {
   "cell_type": "code",
   "execution_count": null,
   "metadata": {
    "collapsed": true
   },
   "outputs": [],
   "source": []
  },
  {
   "cell_type": "code",
   "execution_count": null,
   "metadata": {
    "collapsed": true
   },
   "outputs": [],
   "source": []
  }
 ],
 "metadata": {
  "kernelspec": {
   "display_name": "Python [default]",
   "language": "python",
   "name": "python3"
  },
  "language_info": {
   "codemirror_mode": {
    "name": "ipython",
    "version": 3
   },
   "file_extension": ".py",
   "mimetype": "text/x-python",
   "name": "python",
   "nbconvert_exporter": "python",
   "pygments_lexer": "ipython3",
   "version": "3.5.2"
  }
 },
 "nbformat": 4,
 "nbformat_minor": 2
}
